#!/usr/bin/env python
# coding: utf-8

# In[4]:


# Ejemplo 1
# La función len() empleada en cadenas de caracteres calcula el número de caracteres que contiene lo escrito.
palabra = 'por'
print(len(palabra))


# Ejemplo 2
# A pesar de no tener caracteres calcula que tiene 0
vacio = ''
print(len(vacio))


# Ejemplo 3
# La diagonal invertida no se cuenta como un caracter
yo_soy = 'I\'m'
print(len(yo_soy))


# In[ ]:




