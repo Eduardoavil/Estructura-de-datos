{
 "cells": [
  {
   "cell_type": "markdown",
   "metadata": {},
   "source": [
    "## 5.1.11.9 LABORATORIO: El Dígito de la Vida\n",
    "### José Eduardo Avila Martinez"
   ]
  },
  {
   "cell_type": "code",
   "execution_count": 6,
   "metadata": {},
   "outputs": [
    {
     "name": "stdout",
     "output_type": "stream",
     "text": [
      "Teclea tu fecha de nacimiento en numeros: 19980824\n",
      "5\n"
     ]
    }
   ],
   "source": [
    "def digitodevida(x):\n",
    "    digito = 0\n",
    "    while x:\n",
    "        digito += x % 10\n",
    "        x //= 10\n",
    "    if digito > 9:\n",
    "        return digitodevida(digito)\n",
    "\n",
    "    return digito\n",
    "\n",
    "x = int(input(\"Teclea tu fecha de nacimiento en numeros: \"))\n",
    "\n",
    "print(digitodevida(x))"
   ]
  },
  {
   "cell_type": "code",
   "execution_count": null,
   "metadata": {},
   "outputs": [],
   "source": []
  }
 ],
 "metadata": {
  "kernelspec": {
   "display_name": "Python 3",
   "language": "python",
   "name": "python3"
  },
  "language_info": {
   "codemirror_mode": {
    "name": "ipython",
    "version": 3
   },
   "file_extension": ".py",
   "mimetype": "text/x-python",
   "name": "python",
   "nbconvert_exporter": "python",
   "pygments_lexer": "ipython3",
   "version": "3.8.3"
  }
 },
 "nbformat": 4,
 "nbformat_minor": 4
}
