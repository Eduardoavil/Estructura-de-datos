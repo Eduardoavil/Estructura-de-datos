{
 "cells": [
  {
   "cell_type": "markdown",
   "metadata": {},
   "source": [
    "## 5.1.11.8 LABORATORIO: Anagramas\n",
    "### José Eduardo Avila Martinez\n"
   ]
  },
  {
   "cell_type": "code",
   "execution_count": 1,
   "metadata": {},
   "outputs": [
    {
     "name": "stdout",
     "output_type": "stream",
     "text": [
      "Teclea la primer palabra: listen\n",
      "Teclea la segunda palabra: silent\n",
      "Si son anagramas\n"
     ]
    }
   ],
   "source": [
    "def Verdadero(p1, p2):\n",
    "    \n",
    "    p1 = p1.lower() \n",
    "    p1 = p1.replace(\" \", \"\")\n",
    "    p2 = p2.lower()\n",
    "    p2 = p2.replace(\" \", \"\")\n",
    "    \n",
    "\n",
    "    if(sorted(p1) == sorted(p2)): \n",
    "        print(\"Si son anagramas\")  \n",
    "    else: \n",
    "        print(\"No son anagramas\")          \n",
    "          \n",
    "p1 = input(\"Teclea la primer palabra: \")\n",
    "p2 = input(\"Teclea la segunda palabra: \")\n",
    "\n",
    "Verdadero(p1, p2)"
   ]
  },
  {
   "cell_type": "code",
   "execution_count": null,
   "metadata": {},
   "outputs": [],
   "source": []
  }
 ],
 "metadata": {
  "kernelspec": {
   "display_name": "Python 3",
   "language": "python",
   "name": "python3"
  },
  "language_info": {
   "codemirror_mode": {
    "name": "ipython",
    "version": 3
   },
   "file_extension": ".py",
   "mimetype": "text/x-python",
   "name": "python",
   "nbconvert_exporter": "python",
   "pygments_lexer": "ipython3",
   "version": "3.8.3"
  }
 },
 "nbformat": 4,
 "nbformat_minor": 4
}
