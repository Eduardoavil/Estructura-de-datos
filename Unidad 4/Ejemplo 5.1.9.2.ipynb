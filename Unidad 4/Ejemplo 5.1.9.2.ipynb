{
 "cells": [
  {
   "cell_type": "code",
   "execution_count": null,
   "metadata": {},
   "outputs": [],
   "source": [
    "#Genera una copia de la cadena original, tratando de centrarla dentro de un campo de un ancho especificado.\n",
    "#El centrado se realiza realmente al agregar algunos espacios antes y después de la cadena.\n",
    "\n",
    "\n",
    "# Demostración del método center()\n",
    "print('[' + 'alfa'.center(10) + ']')"
   ]
  }
 ],
 "metadata": {
  "kernelspec": {
   "display_name": "Python 3",
   "language": "python",
   "name": "python3"
  },
  "language_info": {
   "codemirror_mode": {
    "name": "ipython",
    "version": 3
   },
   "file_extension": ".py",
   "mimetype": "text/x-python",
   "name": "python",
   "nbconvert_exporter": "python",
   "pygments_lexer": "ipython3",
   "version": "3.8.3"
  }
 },
 "nbformat": 4,
 "nbformat_minor": 4
}
