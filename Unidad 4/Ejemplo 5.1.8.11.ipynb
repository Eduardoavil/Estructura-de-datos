{
 "cells": [
  {
   "cell_type": "code",
   "execution_count": 1,
   "metadata": {},
   "outputs": [
    {
     "name": "stdout",
     "output_type": "stream",
     "text": [
      "A\n"
     ]
    }
   ],
   "source": [
    "# Esta función encuentra el elemento mínimo de la secuencia pasada como argumento.\n",
    "# No puede estar vacia\n",
    "# La tabla del codigo ASCII comienza con las letras mayusculas\n",
    "# Demonstrando min() - Ejemplo 1\n",
    "\n",
    "print(min(\"aAbByYzZ\"))\n",
    "\n"
   ]
  },
  {
   "cell_type": "code",
   "execution_count": 2,
   "metadata": {},
   "outputs": [
    {
     "name": "stdout",
     "output_type": "stream",
     "text": [
      "[ ]\n",
      "0\n"
     ]
    }
   ],
   "source": [
    "# Estos presentan más que cadenas. \n",
    "# Demonstrando min() - Examplos 2 y 3\n",
    "t = 'Los Caballeros Que Dicen \"¡Ni!\"'\n",
    "print('[' + min(t) + ']')\n",
    "\n",
    "t = [0, 1, 2]\n",
    "print(min(t))\n",
    "\n",
    "# Los corchetes sirven para que los espacios no  pasen por alto en la pantalla."
   ]
  },
  {
   "cell_type": "code",
   "execution_count": null,
   "metadata": {},
   "outputs": [],
   "source": []
  }
 ],
 "metadata": {
  "kernelspec": {
   "display_name": "Python 3",
   "language": "python",
   "name": "python3"
  },
  "language_info": {
   "codemirror_mode": {
    "name": "ipython",
    "version": 3
   },
   "file_extension": ".py",
   "mimetype": "text/x-python",
   "name": "python",
   "nbconvert_exporter": "python",
   "pygments_lexer": "ipython3",
   "version": "3.8.3"
  }
 },
 "nbformat": 4,
 "nbformat_minor": 4
}
