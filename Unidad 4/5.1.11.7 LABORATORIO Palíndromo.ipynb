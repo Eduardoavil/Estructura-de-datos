{
 "cells": [
  {
   "cell_type": "markdown",
   "metadata": {},
   "source": [
    "## 5.1.11.7 LABORATORIO: Palíndromos\n",
    "### José Eduardo Avila Martinez\n",
    "\n",
    "    "
   ]
  },
  {
   "cell_type": "code",
   "execution_count": 10,
   "metadata": {},
   "outputs": [
    {
     "name": "stdout",
     "output_type": "stream",
     "text": [
      "escribe una frase ó palabra: Ten animals I slam in a net\n",
      "Si es un palindromo\n"
     ]
    }
   ],
   "source": [
    "frase = input (\"escribe una frase ó palabra: \")\n",
    "frase = frase.lower()\n",
    "frase = frase.replace(\" \", \"\")\n",
    "\n",
    "invertida = frase[::-1]\n",
    "if(frase == invertida):\n",
    "    print(\"Si es un palindromo\")\n",
    "else: \n",
    "    print(\"No es un palindromo\")\n",
    "    "
   ]
  },
  {
   "cell_type": "code",
   "execution_count": null,
   "metadata": {},
   "outputs": [],
   "source": []
  }
 ],
 "metadata": {
  "kernelspec": {
   "display_name": "Python 3",
   "language": "python",
   "name": "python3"
  },
  "language_info": {
   "codemirror_mode": {
    "name": "ipython",
    "version": 3
   },
   "file_extension": ".py",
   "mimetype": "text/x-python",
   "name": "python",
   "nbconvert_exporter": "python",
   "pygments_lexer": "ipython3",
   "version": "3.8.3"
  }
 },
 "nbformat": 4,
 "nbformat_minor": 4
}
